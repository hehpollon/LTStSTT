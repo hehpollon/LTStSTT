{
 "cells": [
  {
   "cell_type": "markdown",
   "metadata": {},
   "source": [
    "# The Nonrandom Market"
   ]
  },
  {
   "cell_type": "code",
   "execution_count": 1,
   "metadata": {},
   "outputs": [],
   "source": [
    "from pandas_datareader import data  \n",
    "from datetime import datetime\n",
    "import pandas_datareader as pdr\n",
    "import pandas as pd\n",
    "pd.options.mode.chained_assignment = None"
   ]
  },
  {
   "cell_type": "markdown",
   "metadata": {},
   "source": [
    "## Dax index from 1998 to mid 2011"
   ]
  },
  {
   "cell_type": "code",
   "execution_count": 2,
   "metadata": {},
   "outputs": [],
   "source": [
    "start = datetime(1998,1,1)\n",
    "end = datetime(2011,6,30)\n",
    "# DAX PERFORMANCE-INDEX\n",
    "df = pdr.get_data_yahoo('^GDAXI', start, end)"
   ]
  },
  {
   "cell_type": "code",
   "execution_count": 3,
   "metadata": {},
   "outputs": [
    {
     "data": {
      "text/html": [
       "<div>\n",
       "<style scoped>\n",
       "    .dataframe tbody tr th:only-of-type {\n",
       "        vertical-align: middle;\n",
       "    }\n",
       "\n",
       "    .dataframe tbody tr th {\n",
       "        vertical-align: top;\n",
       "    }\n",
       "\n",
       "    .dataframe thead th {\n",
       "        text-align: right;\n",
       "    }\n",
       "</style>\n",
       "<table border=\"1\" class=\"dataframe\">\n",
       "  <thead>\n",
       "    <tr style=\"text-align: right;\">\n",
       "      <th></th>\n",
       "      <th>High</th>\n",
       "      <th>Low</th>\n",
       "      <th>Open</th>\n",
       "      <th>Close</th>\n",
       "      <th>Volume</th>\n",
       "      <th>Adj Close</th>\n",
       "    </tr>\n",
       "    <tr>\n",
       "      <th>Date</th>\n",
       "      <th></th>\n",
       "      <th></th>\n",
       "      <th></th>\n",
       "      <th></th>\n",
       "      <th></th>\n",
       "      <th></th>\n",
       "    </tr>\n",
       "  </thead>\n",
       "  <tbody>\n",
       "    <tr>\n",
       "      <th>1998-01-02</th>\n",
       "      <td>4368.000000</td>\n",
       "      <td>4270.689941</td>\n",
       "      <td>4270.689941</td>\n",
       "      <td>4364.319824</td>\n",
       "      <td>0.0</td>\n",
       "      <td>4364.319824</td>\n",
       "    </tr>\n",
       "    <tr>\n",
       "      <th>1998-01-05</th>\n",
       "      <td>4420.850098</td>\n",
       "      <td>4331.200195</td>\n",
       "      <td>4358.029785</td>\n",
       "      <td>4416.950195</td>\n",
       "      <td>0.0</td>\n",
       "      <td>4416.950195</td>\n",
       "    </tr>\n",
       "    <tr>\n",
       "      <th>1998-01-06</th>\n",
       "      <td>4427.330078</td>\n",
       "      <td>4345.819824</td>\n",
       "      <td>4427.299805</td>\n",
       "      <td>4360.049805</td>\n",
       "      <td>0.0</td>\n",
       "      <td>4360.049805</td>\n",
       "    </tr>\n",
       "    <tr>\n",
       "      <th>1998-01-07</th>\n",
       "      <td>4395.959961</td>\n",
       "      <td>4326.549805</td>\n",
       "      <td>4356.870117</td>\n",
       "      <td>4339.979980</td>\n",
       "      <td>0.0</td>\n",
       "      <td>4339.979980</td>\n",
       "    </tr>\n",
       "    <tr>\n",
       "      <th>1998-01-08</th>\n",
       "      <td>4400.939941</td>\n",
       "      <td>4274.000000</td>\n",
       "      <td>4359.350098</td>\n",
       "      <td>4293.640137</td>\n",
       "      <td>0.0</td>\n",
       "      <td>4293.640137</td>\n",
       "    </tr>\n",
       "    <tr>\n",
       "      <th>...</th>\n",
       "      <td>...</td>\n",
       "      <td>...</td>\n",
       "      <td>...</td>\n",
       "      <td>...</td>\n",
       "      <td>...</td>\n",
       "      <td>...</td>\n",
       "    </tr>\n",
       "    <tr>\n",
       "      <th>2011-06-24</th>\n",
       "      <td>7273.319824</td>\n",
       "      <td>7099.220215</td>\n",
       "      <td>7231.729980</td>\n",
       "      <td>7121.379883</td>\n",
       "      <td>167161100.0</td>\n",
       "      <td>7121.379883</td>\n",
       "    </tr>\n",
       "    <tr>\n",
       "      <th>2011-06-27</th>\n",
       "      <td>7144.439941</td>\n",
       "      <td>7079.109863</td>\n",
       "      <td>7101.149902</td>\n",
       "      <td>7107.899902</td>\n",
       "      <td>149929900.0</td>\n",
       "      <td>7107.899902</td>\n",
       "    </tr>\n",
       "    <tr>\n",
       "      <th>2011-06-28</th>\n",
       "      <td>7187.080078</td>\n",
       "      <td>7075.189941</td>\n",
       "      <td>7138.500000</td>\n",
       "      <td>7170.430176</td>\n",
       "      <td>137242600.0</td>\n",
       "      <td>7170.430176</td>\n",
       "    </tr>\n",
       "    <tr>\n",
       "      <th>2011-06-29</th>\n",
       "      <td>7320.299805</td>\n",
       "      <td>7230.950195</td>\n",
       "      <td>7230.950195</td>\n",
       "      <td>7294.140137</td>\n",
       "      <td>148482500.0</td>\n",
       "      <td>7294.140137</td>\n",
       "    </tr>\n",
       "    <tr>\n",
       "      <th>2011-06-30</th>\n",
       "      <td>7378.350098</td>\n",
       "      <td>7285.439941</td>\n",
       "      <td>7310.339844</td>\n",
       "      <td>7376.240234</td>\n",
       "      <td>116696800.0</td>\n",
       "      <td>7376.240234</td>\n",
       "    </tr>\n",
       "  </tbody>\n",
       "</table>\n",
       "<p>3429 rows × 6 columns</p>\n",
       "</div>"
      ],
      "text/plain": [
       "                   High          Low         Open        Close       Volume  \\\n",
       "Date                                                                          \n",
       "1998-01-02  4368.000000  4270.689941  4270.689941  4364.319824          0.0   \n",
       "1998-01-05  4420.850098  4331.200195  4358.029785  4416.950195          0.0   \n",
       "1998-01-06  4427.330078  4345.819824  4427.299805  4360.049805          0.0   \n",
       "1998-01-07  4395.959961  4326.549805  4356.870117  4339.979980          0.0   \n",
       "1998-01-08  4400.939941  4274.000000  4359.350098  4293.640137          0.0   \n",
       "...                 ...          ...          ...          ...          ...   \n",
       "2011-06-24  7273.319824  7099.220215  7231.729980  7121.379883  167161100.0   \n",
       "2011-06-27  7144.439941  7079.109863  7101.149902  7107.899902  149929900.0   \n",
       "2011-06-28  7187.080078  7075.189941  7138.500000  7170.430176  137242600.0   \n",
       "2011-06-29  7320.299805  7230.950195  7230.950195  7294.140137  148482500.0   \n",
       "2011-06-30  7378.350098  7285.439941  7310.339844  7376.240234  116696800.0   \n",
       "\n",
       "              Adj Close  \n",
       "Date                     \n",
       "1998-01-02  4364.319824  \n",
       "1998-01-05  4416.950195  \n",
       "1998-01-06  4360.049805  \n",
       "1998-01-07  4339.979980  \n",
       "1998-01-08  4293.640137  \n",
       "...                 ...  \n",
       "2011-06-24  7121.379883  \n",
       "2011-06-27  7107.899902  \n",
       "2011-06-28  7170.430176  \n",
       "2011-06-29  7294.140137  \n",
       "2011-06-30  7376.240234  \n",
       "\n",
       "[3429 rows x 6 columns]"
      ]
     },
     "execution_count": 3,
     "metadata": {},
     "output_type": "execute_result"
    }
   ],
   "source": [
    "df"
   ]
  },
  {
   "cell_type": "code",
   "execution_count": 4,
   "metadata": {},
   "outputs": [
    {
     "data": {
      "text/plain": [
       "<AxesSubplot:xlabel='Date'>"
      ]
     },
     "execution_count": 4,
     "metadata": {},
     "output_type": "execute_result"
    },
    {
     "data": {
      "image/png": "[encoded data removed]",
      "text/plain": [
       "<Figure size 432x288 with 1 Axes>"
      ]
     },
     "metadata": {
      "needs_background": "light"
     },
     "output_type": "display_data"
    }
   ],
   "source": [
    "df['Close'].plot()"
   ]
  },
  {
   "cell_type": "markdown",
   "metadata": {},
   "source": [
    "## Prepare data"
   ]
  },
  {
   "cell_type": "code",
   "execution_count": 5,
   "metadata": {},
   "outputs": [],
   "source": [
    "df = df[['Open', 'Close']]\n",
    "# down: close price < open price\n",
    "df['down'] = df['Close'] < df['Open']\n",
    "df['down_lag_1'] = df['down'].shift(1)\n",
    "df['down_lag_2'] = df['down'].shift(2)\n",
    "df['down_lag_3'] = df['down'].shift(3)\n",
    "# buy on open, sell on close\n",
    "df['diff'] = df['Close'] / df['Open']\n",
    "df['day_name'] = df.index.day_name()"
   ]
  },
  {
   "cell_type": "code",
   "execution_count": 6,
   "metadata": {},
   "outputs": [
    {
     "data": {
      "text/html": [
       "<div>\n",
       "<style scoped>\n",
       "    .dataframe tbody tr th:only-of-type {\n",
       "        vertical-align: middle;\n",
       "    }\n",
       "\n",
       "    .dataframe tbody tr th {\n",
       "        vertical-align: top;\n",
       "    }\n",
       "\n",
       "    .dataframe thead th {\n",
       "        text-align: right;\n",
       "    }\n",
       "</style>\n",
       "<table border=\"1\" class=\"dataframe\">\n",
       "  <thead>\n",
       "    <tr style=\"text-align: right;\">\n",
       "      <th></th>\n",
       "      <th>Open</th>\n",
       "      <th>Close</th>\n",
       "      <th>down</th>\n",
       "      <th>down_lag_1</th>\n",
       "      <th>down_lag_2</th>\n",
       "      <th>down_lag_3</th>\n",
       "      <th>diff</th>\n",
       "      <th>day_name</th>\n",
       "    </tr>\n",
       "    <tr>\n",
       "      <th>Date</th>\n",
       "      <th></th>\n",
       "      <th></th>\n",
       "      <th></th>\n",
       "      <th></th>\n",
       "      <th></th>\n",
       "      <th></th>\n",
       "      <th></th>\n",
       "      <th></th>\n",
       "    </tr>\n",
       "  </thead>\n",
       "  <tbody>\n",
       "    <tr>\n",
       "      <th>1998-01-02</th>\n",
       "      <td>4270.689941</td>\n",
       "      <td>4364.319824</td>\n",
       "      <td>False</td>\n",
       "      <td>NaN</td>\n",
       "      <td>NaN</td>\n",
       "      <td>NaN</td>\n",
       "      <td>1.021924</td>\n",
       "      <td>Friday</td>\n",
       "    </tr>\n",
       "    <tr>\n",
       "      <th>1998-01-05</th>\n",
       "      <td>4358.029785</td>\n",
       "      <td>4416.950195</td>\n",
       "      <td>False</td>\n",
       "      <td>False</td>\n",
       "      <td>NaN</td>\n",
       "      <td>NaN</td>\n",
       "      <td>1.013520</td>\n",
       "      <td>Monday</td>\n",
       "    </tr>\n",
       "    <tr>\n",
       "      <th>1998-01-06</th>\n",
       "      <td>4427.299805</td>\n",
       "      <td>4360.049805</td>\n",
       "      <td>True</td>\n",
       "      <td>False</td>\n",
       "      <td>False</td>\n",
       "      <td>NaN</td>\n",
       "      <td>0.984810</td>\n",
       "      <td>Tuesday</td>\n",
       "    </tr>\n",
       "    <tr>\n",
       "      <th>1998-01-07</th>\n",
       "      <td>4356.870117</td>\n",
       "      <td>4339.979980</td>\n",
       "      <td>True</td>\n",
       "      <td>True</td>\n",
       "      <td>False</td>\n",
       "      <td>False</td>\n",
       "      <td>0.996123</td>\n",
       "      <td>Wednesday</td>\n",
       "    </tr>\n",
       "    <tr>\n",
       "      <th>1998-01-08</th>\n",
       "      <td>4359.350098</td>\n",
       "      <td>4293.640137</td>\n",
       "      <td>True</td>\n",
       "      <td>True</td>\n",
       "      <td>True</td>\n",
       "      <td>False</td>\n",
       "      <td>0.984927</td>\n",
       "      <td>Thursday</td>\n",
       "    </tr>\n",
       "    <tr>\n",
       "      <th>...</th>\n",
       "      <td>...</td>\n",
       "      <td>...</td>\n",
       "      <td>...</td>\n",
       "      <td>...</td>\n",
       "      <td>...</td>\n",
       "      <td>...</td>\n",
       "      <td>...</td>\n",
       "      <td>...</td>\n",
       "    </tr>\n",
       "    <tr>\n",
       "      <th>2011-06-24</th>\n",
       "      <td>7231.729980</td>\n",
       "      <td>7121.379883</td>\n",
       "      <td>True</td>\n",
       "      <td>True</td>\n",
       "      <td>True</td>\n",
       "      <td>False</td>\n",
       "      <td>0.984741</td>\n",
       "      <td>Friday</td>\n",
       "    </tr>\n",
       "    <tr>\n",
       "      <th>2011-06-27</th>\n",
       "      <td>7101.149902</td>\n",
       "      <td>7107.899902</td>\n",
       "      <td>False</td>\n",
       "      <td>True</td>\n",
       "      <td>True</td>\n",
       "      <td>True</td>\n",
       "      <td>1.000951</td>\n",
       "      <td>Monday</td>\n",
       "    </tr>\n",
       "    <tr>\n",
       "      <th>2011-06-28</th>\n",
       "      <td>7138.500000</td>\n",
       "      <td>7170.430176</td>\n",
       "      <td>False</td>\n",
       "      <td>False</td>\n",
       "      <td>True</td>\n",
       "      <td>True</td>\n",
       "      <td>1.004473</td>\n",
       "      <td>Tuesday</td>\n",
       "    </tr>\n",
       "    <tr>\n",
       "      <th>2011-06-29</th>\n",
       "      <td>7230.950195</td>\n",
       "      <td>7294.140137</td>\n",
       "      <td>False</td>\n",
       "      <td>False</td>\n",
       "      <td>False</td>\n",
       "      <td>True</td>\n",
       "      <td>1.008739</td>\n",
       "      <td>Wednesday</td>\n",
       "    </tr>\n",
       "    <tr>\n",
       "      <th>2011-06-30</th>\n",
       "      <td>7310.339844</td>\n",
       "      <td>7376.240234</td>\n",
       "      <td>False</td>\n",
       "      <td>False</td>\n",
       "      <td>False</td>\n",
       "      <td>False</td>\n",
       "      <td>1.009015</td>\n",
       "      <td>Thursday</td>\n",
       "    </tr>\n",
       "  </tbody>\n",
       "</table>\n",
       "<p>3429 rows × 8 columns</p>\n",
       "</div>"
      ],
      "text/plain": [
       "                   Open        Close   down down_lag_1 down_lag_2 down_lag_3  \\\n",
       "Date                                                                           \n",
       "1998-01-02  4270.689941  4364.319824  False        NaN        NaN        NaN   \n",
       "1998-01-05  4358.029785  4416.950195  False      False        NaN        NaN   \n",
       "1998-01-06  4427.299805  4360.049805   True      False      False        NaN   \n",
       "1998-01-07  4356.870117  4339.979980   True       True      False      False   \n",
       "1998-01-08  4359.350098  4293.640137   True       True       True      False   \n",
       "...                 ...          ...    ...        ...        ...        ...   \n",
       "2011-06-24  7231.729980  7121.379883   True       True       True      False   \n",
       "2011-06-27  7101.149902  7107.899902  False       True       True       True   \n",
       "2011-06-28  7138.500000  7170.430176  False      False       True       True   \n",
       "2011-06-29  7230.950195  7294.140137  False      False      False       True   \n",
       "2011-06-30  7310.339844  7376.240234  False      False      False      False   \n",
       "\n",
       "                diff   day_name  \n",
       "Date                             \n",
       "1998-01-02  1.021924     Friday  \n",
       "1998-01-05  1.013520     Monday  \n",
       "1998-01-06  0.984810    Tuesday  \n",
       "1998-01-07  0.996123  Wednesday  \n",
       "1998-01-08  0.984927   Thursday  \n",
       "...              ...        ...  \n",
       "2011-06-24  0.984741     Friday  \n",
       "2011-06-27  1.000951     Monday  \n",
       "2011-06-28  1.004473    Tuesday  \n",
       "2011-06-29  1.008739  Wednesday  \n",
       "2011-06-30  1.009015   Thursday  \n",
       "\n",
       "[3429 rows x 8 columns]"
      ]
     },
     "execution_count": 6,
     "metadata": {},
     "output_type": "execute_result"
    }
   ],
   "source": [
    "df"
   ]
  },
  {
   "cell_type": "markdown",
   "metadata": {},
   "source": [
    "## Buy after every down close, and exit on the same day’s close"
   ]
  },
  {
   "cell_type": "code",
   "execution_count": 7,
   "metadata": {},
   "outputs": [
    {
     "name": "stdout",
     "output_type": "stream",
     "text": [
      "1635 trades, 53.03% winners\n"
     ]
    },
    {
     "data": {
      "text/plain": [
       "<AxesSubplot:xlabel='Date'>"
      ]
     },
     "execution_count": 7,
     "metadata": {},
     "output_type": "execute_result"
    },
    {
     "data": {
      "image/png": "[encoded data removed]",
      "text/plain": [
       "<Figure size 432x288 with 1 Axes>"
      ]
     },
     "metadata": {
      "needs_background": "light"
     },
     "output_type": "display_data"
    }
   ],
   "source": [
    "r_df = df[(df['down_lag_1'] == True)]\n",
    "total_count = r_df.shape[0]\n",
    "win_count = r_df[r_df['diff'] > 1].shape[0]\n",
    "win_rate = win_count / total_count * 100\n",
    "print(f'{total_count} trades, {win_rate:.2f}% winners')\n",
    "r_df['diff'].cumprod().plot()"
   ]
  },
  {
   "cell_type": "markdown",
   "metadata": {},
   "source": [
    "## Two consecutive down closes "
   ]
  },
  {
   "cell_type": "code",
   "execution_count": 8,
   "metadata": {},
   "outputs": [
    {
     "name": "stdout",
     "output_type": "stream",
     "text": [
      "768 trades, 54.69% winners\n"
     ]
    },
    {
     "data": {
      "text/plain": [
       "<AxesSubplot:xlabel='Date'>"
      ]
     },
     "execution_count": 8,
     "metadata": {},
     "output_type": "execute_result"
    },
    {
     "data": {
      "image/png": "[encoded data removed]",
      "text/plain": [
       "<Figure size 432x288 with 1 Axes>"
      ]
     },
     "metadata": {
      "needs_background": "light"
     },
     "output_type": "display_data"
    }
   ],
   "source": [
    "r_df = df[(df['down_lag_1'] == True) & (df['down_lag_2'] == True)]\n",
    "total_count = r_df.shape[0]\n",
    "win_count = r_df[r_df['diff'] > 1].shape[0]\n",
    "win_rate = win_count / total_count * 100\n",
    "print(f'{total_count} trades, {win_rate:.2f}% winners')\n",
    "r_df['diff'].cumprod().plot()"
   ]
  },
  {
   "cell_type": "markdown",
   "metadata": {},
   "source": [
    "## Three down closes in a row"
   ]
  },
  {
   "cell_type": "code",
   "execution_count": 9,
   "metadata": {},
   "outputs": [
    {
     "name": "stdout",
     "output_type": "stream",
     "text": [
      "348 trades, 54.89% winners\n"
     ]
    },
    {
     "data": {
      "text/plain": [
       "<AxesSubplot:xlabel='Date'>"
      ]
     },
     "execution_count": 9,
     "metadata": {},
     "output_type": "execute_result"
    },
    {
     "data": {
      "image/png": "[encoded data removed]",
      "text/plain": [
       "<Figure size 432x288 with 1 Axes>"
      ]
     },
     "metadata": {
      "needs_background": "light"
     },
     "output_type": "display_data"
    }
   ],
   "source": [
    "r_df = df[(df['down_lag_1'] == True) & (df['down_lag_2'] == True) & (df['down_lag_3'] == True)]\n",
    "total_count = r_df.shape[0]\n",
    "win_count = r_df[r_df['diff'] > 1].shape[0]\n",
    "win_rate = win_count / total_count * 100\n",
    "print(f'{total_count} trades, {win_rate:.2f}% winners')\n",
    "r_df['diff'].cumprod().plot()"
   ]
  },
  {
   "cell_type": "markdown",
   "metadata": {},
   "source": [
    "##  Some days of the week the Dax is more prone to rally than others, so let’s buy only on Tuesdays, Thursdays, and Fridays when there have been three down days in a row"
   ]
  },
  {
   "cell_type": "code",
   "execution_count": 10,
   "metadata": {},
   "outputs": [
    {
     "name": "stdout",
     "output_type": "stream",
     "text": [
      "216 trades, 56.94% winners\n"
     ]
    },
    {
     "data": {
      "text/plain": [
       "<AxesSubplot:xlabel='Date'>"
      ]
     },
     "execution_count": 10,
     "metadata": {},
     "output_type": "execute_result"
    },
    {
     "data": {
      "image/png": "[encoded data removed]",
      "text/plain": [
       "<Figure size 432x288 with 1 Axes>"
      ]
     },
     "metadata": {
      "needs_background": "light"
     },
     "output_type": "display_data"
    }
   ],
   "source": [
    "r_df = df[(df['down_lag_1'] == True) & (df['down_lag_2'] == True) & (df['down_lag_3'] == True) & \n",
    "          ((df['day_name'] == 'Tuesday') | (df['day_name'] == 'Thursday') | (df['day_name'] == 'Friday'))]\n",
    "total_count = r_df.shape[0]\n",
    "win_count = r_df[r_df['diff'] > 1].shape[0]\n",
    "win_rate = win_count / total_count * 100\n",
    "print(f'{total_count} trades, {win_rate:.2f}% winners')\n",
    "r_df['diff'].cumprod().plot()"
   ]
  }
 ],
 "metadata": {
  "kernelspec": {
   "display_name": "Python 3",
   "language": "python",
   "name": "python3"
  },
  "language_info": {
   "codemirror_mode": {
    "name": "ipython",
    "version": 3
   },
   "file_extension": ".py",
   "mimetype": "text/x-python",
   "name": "python",
   "nbconvert_exporter": "python",
   "pygments_lexer": "ipython3",
   "version": "3.8.5"
  }
 },
 "nbformat": 4,
 "nbformat_minor": 4
}
